{
  "nbformat": 4,
  "nbformat_minor": 0,
  "metadata": {
    "colab": {
      "name": "DataStructureExercises.ipynb",
      "provenance": [],
      "collapsed_sections": [],
      "authorship_tag": "ABX9TyPxQ6yyoWBL6LraxR4U+rDq",
      "include_colab_link": true
    },
    "kernelspec": {
      "name": "python3",
      "display_name": "Python 3"
    }
  },
  "cells": [
    {
      "cell_type": "markdown",
      "metadata": {
        "id": "view-in-github",
        "colab_type": "text"
      },
      "source": [
        "<a href=\"https://colab.research.google.com/github/aserena7/Programming-For-Data-Science/blob/master/DataStructureExercises.ipynb\" target=\"_parent\"><img src=\"https://colab.research.google.com/assets/colab-badge.svg\" alt=\"Open In Colab\"/></a>"
      ]
    },
    {
      "cell_type": "markdown",
      "metadata": {
        "id": "K4eWeEpaUqyD",
        "colab_type": "text"
      },
      "source": [
        "Write an algorithm that given the following list of integers A = [12,67,1,89,3,0,100,23,65,34,64,98,12,27] counts the number of integers below ’11’ and number of those elements that are less than half of the average of the elements in the list."
      ]
    },
    {
      "cell_type": "code",
      "metadata": {
        "id": "O-ujvzrsUwae",
        "colab_type": "code",
        "outputId": "17376432-9976-493c-8389-b283c9c4154f",
        "colab": {
          "base_uri": "https://localhost:8080/",
          "height": 70
        }
      },
      "source": [
        "A = [12,67,1,89,3,0,100,23,65,34,64,98,12,27] \n",
        "k = int(input('Count the number of integers below : '))\n",
        "count = 0\n",
        "#inizialize the first accumulator to taking count the numbers that it's countingaccording the first criteria >k\n",
        "countm = 0\n",
        "#inizialize the second count for the second criteria\n",
        "mean = sum(A) / len(A) \n",
        "for i in A : \n",
        "  #for loop for all the element of the list\n",
        "    if i < k : \n",
        "        count = count + 1\n",
        "        #when the if condition is verified, increade the count\n",
        "    \n",
        "    if i < mean/2 :\n",
        "\n",
        "        countm = countm + 1 \n",
        "\n",
        "print('The numbers smaller than '+ str(k) +' are: ' + str(count))\n",
        "#print wants that everything it's string so whn you have to print other data type you need to convert them before into a string with str() function\n",
        "#+ in the print to concatenate different elements in the same line\n",
        "print('The numbers smaller than half of average ('+ str(mean/2) + ') are: ' + str(countm))\n",
        "#count it's like a jar when step by step with for loop it's added each element that correspond to the if condition"
      ],
      "execution_count": 0,
      "outputs": [
        {
          "output_type": "stream",
          "text": [
            "Count the number of integers below : 11\n",
            "The numbers smaller than 11 are: 3\n",
            "The numbers smaller than half of average (21.25) are: 5\n"
          ],
          "name": "stdout"
        }
      ]
    },
    {
      "cell_type": "markdown",
      "metadata": {
        "id": "KWG9dwfRetV4",
        "colab_type": "text"
      },
      "source": [
        "Given the following lists with gene copy numbers and their corresponding gene names: Gene_copy_numbers = [32,3,5,12,45,23,88,1,8,5,10,0,32,0,88] Gene_names = [“has-let-7a”,“has-mir-9” ,“has-mir-121” ,“has-mir-23”, “has-mir-19”, “has-mir-221”, “has-mir-89” , “has-mir-1034”, “has-mir-12”, “has-mir-2088”, “has-mir-56” , “has-mir-55a” , “has-mir-55b” , “has-mir-127”, “has-mir-17”] "
      ]
    },
    {
      "cell_type": "markdown",
      "metadata": {
        "id": "0pJ8DE2Ef5Ci",
        "colab_type": "text"
      },
      "source": [
        "Write an algorithm that: \n",
        "1. Prints the names of the miRNAs (-mir-) with gene copy number values exceeding the average copy number value for all the genes."
      ]
    },
    {
      "cell_type": "code",
      "metadata": {
        "id": "sSyai9qyf9ub",
        "colab_type": "code",
        "outputId": "9be4cdbf-2666-4e52-85ba-40aa43810cd6",
        "colab": {
          "base_uri": "https://localhost:8080/",
          "height": 152
        }
      },
      "source": [
        "Gene_copy_numbers = [32,3,5,12,45,23,88,1,8,5,10,0,32,0,88]\n",
        "Gene_names = [\"has-let-7a”,“has-mir-9” ,“has-mir-121” ,“has-mir-23”, “has-mir-19”, “has-mir-221”, “has-mir-89” , “has-mir-1034”, “has-mir-12”, “has-mir-2088”, “has-mir-56” , “has-mir-55a” , “has-mir-55b” , “has-mir-127”, “has-mir-17”]\n",
        "#Gene_names.replace('\"','')\n",
        "Gene_names.find(-mir)"
      ],
      "execution_count": 0,
      "outputs": [
        {
          "output_type": "error",
          "ename": "SyntaxError",
          "evalue": "ignored",
          "traceback": [
            "\u001b[0;36m  File \u001b[0;32m\"<ipython-input-4-48c63cea9f2b>\"\u001b[0;36m, line \u001b[0;32m2\u001b[0m\n\u001b[0;31m    Gene_names = [\"has-let-7a”,“has-mir-9” ,“has-mir-121” ,“has-mir-23”, “has-mir-19”, “has-mir-221”, “has-mir-89” , “has-mir-1034”, “has-mir-12”, “has-mir-2088”, “has-mir-56” , “has-mir-55a” , “has-mir-55b” , “has-mir-127”, “has-mir-17”]\u001b[0m\n\u001b[0m                                                                                                                                                                                                                                              ^\u001b[0m\n\u001b[0;31mSyntaxError\u001b[0m\u001b[0;31m:\u001b[0m EOL while scanning string literal\n"
          ]
        }
      ]
    }
  ]
}