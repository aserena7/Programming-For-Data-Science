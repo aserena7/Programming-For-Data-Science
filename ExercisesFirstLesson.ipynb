{
  "nbformat": 4,
  "nbformat_minor": 0,
  "metadata": {
    "colab": {
      "name": "ExercisesFirstLesson.ipynb",
      "provenance": [],
      "collapsed_sections": [],
      "authorship_tag": "ABX9TyOLdwqra7CRpCxkSJqcFbE+",
      "include_colab_link": true
    },
    "kernelspec": {
      "name": "python3",
      "display_name": "Python 3"
    }
  },
  "cells": [
    {
      "cell_type": "markdown",
      "metadata": {
        "id": "view-in-github",
        "colab_type": "text"
      },
      "source": [
        "<a href=\"https://colab.research.google.com/github/aserena7/Programming-For-Data-Science/blob/master/ExercisesFirstLesson.ipynb\" target=\"_parent\"><img src=\"https://colab.research.google.com/assets/colab-badge.svg\" alt=\"Open In Colab\"/></a>"
      ]
    },
    {
      "cell_type": "markdown",
      "metadata": {
        "id": "EKMsnxOsSR5E",
        "colab_type": "text"
      },
      "source": [
        "Write an algorithm that asks the users how many numbers he/she wants to type. Then read these numbers and print out the smallest number, the sum, the average and the largest number (watch for possible errors)."
      ]
    },
    {
      "cell_type": "code",
      "metadata": {
        "id": "0CZBs7PmSSTQ",
        "colab_type": "code",
        "outputId": "632d507a-8557-4312-9d7e-d23b631bf25b",
        "colab": {
          "base_uri": "https://localhost:8080/",
          "height": 159
        }
      },
      "source": [
        "num_input = int(input('How many numbers do you want to type? '))\n",
        "#input word defines that is a value that has to be given manually by the user and then is passed to the program\n",
        "inputs = [] \n",
        "#empty square brackets are necessary to inizialize the variable to an empty list\n",
        "sumOfInputs = 0 \n",
        "#inizialize the sum since we have to use the for loop\n",
        "\n",
        "for i in range(num_input):\n",
        "    #Write the \"num_input\" numbers that you want to type\n",
        "  numInput = (int(input(\"Write your number: \")))\n",
        "    #When you add new number to the list sum them step by step\n",
        "  sumOfInputs = sumOfInputs + numInput\n",
        "    #.append method add the input number given by the user to the list, to filling the list\n",
        "  inputs.append(numInput)\n",
        "\n",
        "#out of the for loop \n",
        "#to order the values of the input list from the smallest to the largest\n",
        "print('smallest number is: {}'.format(min(inputs)))\n",
        "#Take the minimum value from the inputs list\n",
        "#.format method allows to pass a value in the print function\n",
        "#Instead of the empty braces there will be the value passed in format\n",
        "print('largest number is: {}'.format(max(inputs)))\n",
        "print('sum of inputs is: {}'.format(sumOfInputs))\n",
        "#The final sum is already calculated at the end of the for loop, so just print the value\n",
        "print('Average of inputs is: {}'.format(sumOfInputs / num_input))\n",
        "#aritmetic mean of the input values"
      ],
      "execution_count": 0,
      "outputs": [
        {
          "output_type": "stream",
          "text": [
            "How many numbers do you want to type? 3\n",
            "Write your number: 1\n",
            "Write your number: 2\n",
            "Write your number: 3\n",
            "smallest number is: 1\n",
            "largest number is: 3\n",
            "sum of inputs is: 6\n",
            "Average of inputs is: 2.0\n"
          ],
          "name": "stdout"
        }
      ]
    },
    {
      "cell_type": "markdown",
      "metadata": {
        "id": "hp6W-0AdTPel",
        "colab_type": "text"
      },
      "source": [
        "Write a program that asks the user to enter two words. The program then prints out both words on one line, the length of both words and number of points added. The words will be separated by enought dots so that the total line length is 30:"
      ]
    },
    {
      "cell_type": "code",
      "metadata": {
        "id": "CH9xdcdqT2J2",
        "colab_type": "code",
        "outputId": "22638c3c-b9ff-43c8-9e4e-47c486cb28ed",
        "colab": {
          "base_uri": "https://localhost:8080/",
          "height": 124
        }
      },
      "source": [
        "required_len = 30\n",
        "#the track requires a total lenght of 30\n",
        "periods = ''\n",
        "#to inizialize the string that have to separate due 2 words\n",
        "first_word = input('First word: ')\n",
        "#Takes in input the words passed by the user and are saved in the corrispondend variable\n",
        "second_word = input('Second word: ')\n",
        "\n",
        "len_first_word = len(first_word) \n",
        "#calculate the lenght of both words\n",
        "len_second_word = len(second_word)\n",
        "second_word_start = required_len - len_second_word\n",
        "#to calculate where has to start the second word\n",
        "number_of_dots = second_word_start - len_first_word\n",
        "#to calculate how many dots should stay between the 2 words\n",
        "\n",
        "for i in range(number_of_dots):\n",
        "  periods = periods + '.'\n",
        "#to fill the string of dots with the right numbers of dots\n",
        "\n",
        "print(first_word + periods + second_word)\n",
        "#to put everythin on the same line\n",
        "print('Length of first word: {}'.format(len_first_word))\n",
        "print('Length of second word: {}'.format(len_second_word))\n",
        "print('Number of point added: {}' .format(number_of_dots))"
      ],
      "execution_count": 0,
      "outputs": [
        {
          "output_type": "stream",
          "text": [
            "First word: hola\n",
            "Second word: chica\n",
            "hola.....................chica\n",
            "Length of first word: 4\n",
            "Length of second word: 5\n",
            "Number of point added: 21\n"
          ],
          "name": "stdout"
        }
      ]
    },
    {
      "cell_type": "markdown",
      "metadata": {
        "id": "IOHhs6vHYUer",
        "colab_type": "text"
      },
      "source": [
        "You are given the following DNA sequence: AAACGCTGTCAATACAATCTTYCTAGATATTCGGATTTGAA TTTTGCAAAAAGTCCGAAGCTGCCCACCTCAAGTCATTGTT TCAACTCGCTTACGGTATATATATCTACTTTCATTGAGATA TAAACAGCGCTGATACAATCTTTTTATATAAGTCTTTTGTA CAAATAAAGCTAGGAAAAGCCCGACGTCATTATAGCTAT An imaginary restriction enzyme cuts in \"AAGTCA\" find where in the previous sequence this enzyme will cut"
      ]
    },
    {
      "cell_type": "code",
      "metadata": {
        "id": "IvnBF6nJZoCd",
        "colab_type": "code",
        "colab": {}
      },
      "source": [
        "given_str = 'AAACGCTGTCAATACAATCTTYCTAGATATTCGGATTTGAA TTTTGCAAAAAGTCCGAAGCTGCCCACCTCAAGTCATTGTT TCAACTCGCTTACGGTATATATATCTACTTTCATTGAGATA TAAACAGCGCTGATACAATCTTTTTATATAAGTCTTTTGTA CAAATAAAGCTAGGAAAAGCCCGACGTCATTATAGCTAT'\n",
        "given_substr = 'AAGTCA'\n",
        "\n",
        "cut=given_str.find(given_substr)\n",
        "#find method find the positiìthe sub string in the string \n",
        "print('The DNA is cut in the position: {}'.format(cut))\n",
        "print('The sequence until the cutting is: {}'.format(given_str[0:cut]))"
      ],
      "execution_count": 0,
      "outputs": []
    },
    {
      "cell_type": "markdown",
      "metadata": {
        "id": "BvSice3pSVio",
        "colab_type": "text"
      },
      "source": [
        "You are given the following DNA sequence: AAACGCTGTCAATACAATCTTYCTAGATATTCGGATTTGAAT TTTGCAAAA write a loop that will split the above sequence in triplets and print them?"
      ]
    },
    {
      "cell_type": "code",
      "metadata": {
        "id": "5a_ipi2-SdI1",
        "colab_type": "code",
        "colab": {}
      },
      "source": [
        ""
      ],
      "execution_count": 0,
      "outputs": []
    }
  ]
}